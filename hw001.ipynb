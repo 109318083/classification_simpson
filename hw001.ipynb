{
  "nbformat": 4,
  "nbformat_minor": 0,
  "metadata": {
    "colab": {
      "name": "hw001.ipynb",
      "provenance": []
    },
    "kernelspec": {
      "name": "python3",
      "display_name": "Python 3"
    },
    "accelerator": "GPU"
  },
  "cells": [
    {
      "cell_type": "code",
      "metadata": {
        "id": "Vygw2J38Lio4"
      },
      "source": [
        "import matplotlib.pyplot as plt\n",
        "import numpy as np\n",
        "import pandas as pd\n",
        "import cv2\n",
        "import tensorflow as tf \n",
        "import os,sys \n",
        "sys.setrecursionlimit(15000)\n",
        "from keras.preprocessing.image import ImageDataGenerator\n",
        "from keras.optimizers import SGD,Adam\n",
        "from keras.utils import np_utils\n",
        "from keras.callbacks import *\n",
        "from keras.layers import *\n",
        "from sklearn.model_selection import train_test_split\n",
        "from keras.models import Sequential ,Model,load_model\n"
      ],
      "execution_count": null,
      "outputs": []
    },
    {
      "cell_type": "code",
      "metadata": {
        "id": "RZxa2i_hOY12"
      },
      "source": [
        "map_characters = {0: 'abraham_grampa_simpson', 1: 'apu_nahasapeemapetilon', 2: 'bart_simpson', \n",
        "        3: 'charles_montgomery_burns', 4: 'chief_wiggum', 5: 'comic_book_guy', 6: 'edna_krabappel', \n",
        "        7: 'homer_simpson', 8: 'kent_brockman', 9: 'krusty_the_clown', 10: 'lenny_leonard', 11: 'lisa_simpson', \n",
        "        12: 'marge_simpson', 13: 'mayor_quimby', 14: 'milhouse_van_houten', 15: 'moe_szyslak', \n",
        "        16: 'ned_flanders', 17: 'nelson_muntz', 18: 'principal_skinner', 19: 'sideshow_bob'}\n",
        "\n",
        "\n",
        "pic_size = 64\n",
        "batch_size = 64\n",
        "epochs = 500\n",
        "num_classes = len(map_characters)\n",
        "\n",
        "images = []\n",
        "labels = []\n",
        "name  = []\n",
        "\n"
      ],
      "execution_count": null,
      "outputs": []
    },
    {
      "cell_type": "code",
      "metadata": {
        "id": "czTKYxuLTHRl"
      },
      "source": [
        "def read_images_labels(path,i):\n",
        "  for file in os.listdir(path):\n",
        "    #pics_path = os.path.join(\"/content/drive/MyDrive/CharacterML_Hw/train/characters-20\")\n",
        "    abs_path =os.path.abspath(os.path.join(path,file))\n",
        "    if os.path.isdir(abs_path):\n",
        "      i+=1\n",
        "      temp = os.path.split(abs_path)[-1]\n",
        "      name.append(temp)\n",
        "      read_images_labels(abs_path,i)\n",
        "      amount = int(len(os.listdir(path)))\n",
        "      sys.stdout.write('\\r'+'>'*(i)+' '*(amount-i)+'[%s%%]'%(i*100/amount)+temp)\n",
        "          \n",
        "    else:\n",
        "        if file.endswith('.jpg'):\n",
        "          image = cv2.resize(cv2.imread(abs_path),(64,64))\n",
        "          images.append(image)\n",
        "          labels.append(i-1)\n",
        "  return images , labels ,name      "
      ],
      "execution_count": null,
      "outputs": []
    },
    {
      "cell_type": "code",
      "metadata": {
        "colab": {
          "base_uri": "https://localhost:8080/"
        },
        "id": "UuKQbyGrVNNM",
        "outputId": "4467a420-ec2a-45a2-e517-929a273be8e3"
      },
      "source": [
        "def read_main(path):\n",
        "  global images\n",
        "  image,labels,name = read_images_labels(path,i=0)\n",
        "  images = np.array(images,dtype=np.float32)/255\n",
        "  labels = np_utils.to_categorical(labels,num_classes=20)\n",
        "  np.savetxt('name.txt',name,delimiter=' ',fmt='%s')\n",
        "  return images ,labels\n",
        "\n",
        "images,labels = read_main('/content/drive/MyDrive/CharacterML_Hw/train/characters-20')\n",
        "x_train,x_test,y_train,y_test = train_test_split(images,labels ,test_size=0.1)"
      ],
      "execution_count": null,
      "outputs": [
        {
          "output_type": "stream",
          "text": [
            ">>>>>>>>>>>>>>>>>>>>[100.0%]moe_szyslak"
          ],
          "name": "stdout"
        }
      ]
    },
    {
      "cell_type": "code",
      "metadata": {
        "colab": {
          "base_uri": "https://localhost:8080/"
        },
        "id": "z_NFKFtjyJx-",
        "outputId": "da4be4f3-e73d-40f5-ea30-45dc71cc916f"
      },
      "source": [
        "    model = Sequential()\n",
        "    model.add(Conv2D(filters = 32, kernel_size = (3,3),padding = 'Same', activation ='relu', input_shape = x_train.shape[1:]))\n",
        "    model.add(MaxPool2D(pool_size=(2,2)))\n",
        "    model.add(BatchNormalization())\n",
        "    model.add(Dropout(0.25))\n",
        "    model.add(Conv2D(filters = 64, kernel_size = (3,3),padding = 'Same', \n",
        "                     activation ='relu'))\n",
        "    model.add(Conv2D(filters = 64, kernel_size = (3,3),padding = 'Same', \n",
        "                     activation ='relu'))\n",
        "    model.add(MaxPool2D(pool_size=(2,2)))\n",
        "    model.add(BatchNormalization())\n",
        "    model.add(Dropout(0.25))\n",
        "    model.add(Conv2D(filters = 86, kernel_size = (3,3),padding = 'Same', \n",
        "                     activation ='relu'))\n",
        "    model.add(MaxPool2D(pool_size=(2,2)))\n",
        "    model.add(BatchNormalization())\n",
        "    model.add(Dropout(0.25))\n",
        "\n",
        "    model.add(Flatten())\n",
        "    model.add(Dense(512, activation = \"relu\"))\n",
        "    model.add(Dropout(0.5))\n",
        "    model.add(Dense(20, activation = \"softmax\"))\n",
        "    model.summary()\n",
        "    model.compile(optimizer = 'Adam' , loss = \"categorical_crossentropy\", metrics=[\"accuracy\"])\n",
        "    \n",
        "    datagen = ImageDataGenerator(zoom_range=0.1,width_shift_range=0.05,height_shift_range=0.05,horizontal_flip=True)\n",
        "    datagen.fit(x_train)"
      ],
      "execution_count": null,
      "outputs": [
        {
          "output_type": "stream",
          "text": [
            "Model: \"sequential_5\"\n",
            "_________________________________________________________________\n",
            "Layer (type)                 Output Shape              Param #   \n",
            "=================================================================\n",
            "conv2d_16 (Conv2D)           (None, 64, 64, 32)        896       \n",
            "_________________________________________________________________\n",
            "max_pooling2d_12 (MaxPooling (None, 32, 32, 32)        0         \n",
            "_________________________________________________________________\n",
            "batch_normalization_12 (Batc (None, 32, 32, 32)        128       \n",
            "_________________________________________________________________\n",
            "dropout_16 (Dropout)         (None, 32, 32, 32)        0         \n",
            "_________________________________________________________________\n",
            "conv2d_17 (Conv2D)           (None, 32, 32, 64)        18496     \n",
            "_________________________________________________________________\n",
            "conv2d_18 (Conv2D)           (None, 32, 32, 64)        36928     \n",
            "_________________________________________________________________\n",
            "max_pooling2d_13 (MaxPooling (None, 16, 16, 64)        0         \n",
            "_________________________________________________________________\n",
            "batch_normalization_13 (Batc (None, 16, 16, 64)        256       \n",
            "_________________________________________________________________\n",
            "dropout_17 (Dropout)         (None, 16, 16, 64)        0         \n",
            "_________________________________________________________________\n",
            "conv2d_19 (Conv2D)           (None, 16, 16, 86)        49622     \n",
            "_________________________________________________________________\n",
            "max_pooling2d_14 (MaxPooling (None, 8, 8, 86)          0         \n",
            "_________________________________________________________________\n",
            "batch_normalization_14 (Batc (None, 8, 8, 86)          344       \n",
            "_________________________________________________________________\n",
            "dropout_18 (Dropout)         (None, 8, 8, 86)          0         \n",
            "_________________________________________________________________\n",
            "flatten_4 (Flatten)          (None, 5504)              0         \n",
            "_________________________________________________________________\n",
            "dense_8 (Dense)              (None, 512)               2818560   \n",
            "_________________________________________________________________\n",
            "dropout_19 (Dropout)         (None, 512)               0         \n",
            "_________________________________________________________________\n",
            "dense_9 (Dense)              (None, 20)                10260     \n",
            "=================================================================\n",
            "Total params: 2,935,490\n",
            "Trainable params: 2,935,126\n",
            "Non-trainable params: 364\n",
            "_________________________________________________________________\n"
          ],
          "name": "stdout"
        }
      ]
    },
    {
      "cell_type": "code",
      "metadata": {
        "colab": {
          "base_uri": "https://localhost:8080/"
        },
        "id": "5ueJ3JXgqeKi",
        "outputId": "106a749a-89b8-4b23-a43d-abe4b2d6ae53"
      },
      "source": [
        "import h5py\n",
        "!pip install pyyaml h5py  # Required to save models in HDF5 format"
      ],
      "execution_count": null,
      "outputs": [
        {
          "output_type": "stream",
          "text": [
            "Requirement already satisfied: pyyaml in /usr/local/lib/python3.6/dist-packages (3.13)\n",
            "Requirement already satisfied: h5py in /usr/local/lib/python3.6/dist-packages (2.10.0)\n",
            "Requirement already satisfied: numpy>=1.7 in /usr/local/lib/python3.6/dist-packages (from h5py) (1.18.5)\n",
            "Requirement already satisfied: six in /usr/local/lib/python3.6/dist-packages (from h5py) (1.15.0)\n"
          ],
          "name": "stdout"
        }
      ]
    },
    {
      "cell_type": "code",
      "metadata": {
        "id": "aKxJISgPyZiT"
      },
      "source": [
        "early_stopping = EarlyStopping(monitor='val_loss', patience=20)\n"
      ],
      "execution_count": null,
      "outputs": []
    },
    {
      "cell_type": "code",
      "metadata": {
        "colab": {
          "base_uri": "https://localhost:8080/",
          "height": 1000
        },
        "id": "tIY4ETuxZoP2",
        "outputId": "8826dabb-b3fb-4386-e3e4-3f3034d2b752"
      },
      "source": [
        "file_name = str(epochs)+'_'+str(batch_size)\n",
        "fig = model.fit_generator(datagen.flow(x_train,y_train,batch_size=batch_size),steps_per_epoch=epochs,epochs=epochs,validation_data=(x_test,y_test),verbose = 1,callbacks=early_stopping)\n",
        "model.save('/content/drive/MyDrive/CharacterML_Hw/train/model'+file_name+'.h5')\n",
        "score = model.evaluate(x_test,y_test,verbose=1)\n",
        "print(score)"
      ],
      "execution_count": null,
      "outputs": [
        {
          "output_type": "stream",
          "text": [
            "Epoch 1/500\n",
            "500/500 [==============================] - 36s 72ms/step - loss: 1.9158 - accuracy: 0.4772 - val_loss: 1.1848 - val_accuracy: 0.6399\n",
            "Epoch 2/500\n",
            "500/500 [==============================] - 36s 72ms/step - loss: 1.0541 - accuracy: 0.6867 - val_loss: 0.6793 - val_accuracy: 0.7964\n",
            "Epoch 3/500\n",
            "500/500 [==============================] - 36s 72ms/step - loss: 0.7638 - accuracy: 0.7729 - val_loss: 0.6627 - val_accuracy: 0.8102\n",
            "Epoch 4/500\n",
            "500/500 [==============================] - 36s 72ms/step - loss: 0.6195 - accuracy: 0.8167 - val_loss: 0.4770 - val_accuracy: 0.8568\n",
            "Epoch 5/500\n",
            "500/500 [==============================] - 36s 72ms/step - loss: 0.5329 - accuracy: 0.8415 - val_loss: 0.3727 - val_accuracy: 0.8934\n",
            "Epoch 6/500\n",
            "500/500 [==============================] - 36s 71ms/step - loss: 0.4645 - accuracy: 0.8609 - val_loss: 0.3903 - val_accuracy: 0.8806\n",
            "Epoch 7/500\n",
            "500/500 [==============================] - 35s 71ms/step - loss: 0.4219 - accuracy: 0.8722 - val_loss: 0.4632 - val_accuracy: 0.8688\n",
            "Epoch 8/500\n",
            "500/500 [==============================] - 36s 71ms/step - loss: 0.3931 - accuracy: 0.8828 - val_loss: 0.2960 - val_accuracy: 0.9123\n",
            "Epoch 9/500\n",
            "500/500 [==============================] - 35s 71ms/step - loss: 0.3643 - accuracy: 0.8923 - val_loss: 0.2855 - val_accuracy: 0.9189\n",
            "Epoch 10/500\n",
            "500/500 [==============================] - 36s 72ms/step - loss: 0.3276 - accuracy: 0.9008 - val_loss: 0.4010 - val_accuracy: 0.8831\n",
            "Epoch 11/500\n",
            "500/500 [==============================] - 36s 72ms/step - loss: 0.3187 - accuracy: 0.9035 - val_loss: 0.2527 - val_accuracy: 0.9286\n",
            "Epoch 12/500\n",
            "500/500 [==============================] - 35s 71ms/step - loss: 0.3008 - accuracy: 0.9090 - val_loss: 0.2114 - val_accuracy: 0.9384\n",
            "Epoch 13/500\n",
            "500/500 [==============================] - 36s 71ms/step - loss: 0.2804 - accuracy: 0.9149 - val_loss: 0.2003 - val_accuracy: 0.9471\n",
            "Epoch 14/500\n",
            "500/500 [==============================] - 35s 71ms/step - loss: 0.2568 - accuracy: 0.9225 - val_loss: 0.1495 - val_accuracy: 0.9619\n",
            "Epoch 15/500\n",
            "500/500 [==============================] - 35s 71ms/step - loss: 0.2489 - accuracy: 0.9230 - val_loss: 0.1673 - val_accuracy: 0.9517\n",
            "Epoch 16/500\n",
            "500/500 [==============================] - 35s 71ms/step - loss: 0.2410 - accuracy: 0.9274 - val_loss: 0.1262 - val_accuracy: 0.9639\n",
            "Epoch 17/500\n",
            "500/500 [==============================] - 35s 71ms/step - loss: 0.2321 - accuracy: 0.9302 - val_loss: 0.1427 - val_accuracy: 0.9570\n",
            "Epoch 18/500\n",
            "500/500 [==============================] - 36s 72ms/step - loss: 0.2156 - accuracy: 0.9343 - val_loss: 0.1683 - val_accuracy: 0.9550\n",
            "Epoch 19/500\n",
            "500/500 [==============================] - 36s 72ms/step - loss: 0.2199 - accuracy: 0.9330 - val_loss: 0.1565 - val_accuracy: 0.9550\n",
            "Epoch 20/500\n",
            "500/500 [==============================] - 36s 72ms/step - loss: 0.2010 - accuracy: 0.9388 - val_loss: 0.1060 - val_accuracy: 0.9716\n",
            "Epoch 21/500\n",
            "500/500 [==============================] - 35s 71ms/step - loss: 0.1966 - accuracy: 0.9405 - val_loss: 0.1043 - val_accuracy: 0.9749\n",
            "Epoch 22/500\n",
            "500/500 [==============================] - 36s 71ms/step - loss: 0.1791 - accuracy: 0.9450 - val_loss: 0.1779 - val_accuracy: 0.9473\n",
            "Epoch 23/500\n",
            "500/500 [==============================] - 36s 71ms/step - loss: 0.1715 - accuracy: 0.9476 - val_loss: 0.1490 - val_accuracy: 0.9614\n",
            "Epoch 24/500\n",
            "500/500 [==============================] - 36s 72ms/step - loss: 0.1699 - accuracy: 0.9502 - val_loss: 0.0832 - val_accuracy: 0.9770\n",
            "Epoch 25/500\n",
            "500/500 [==============================] - 36s 72ms/step - loss: 0.1587 - accuracy: 0.9511 - val_loss: 0.0856 - val_accuracy: 0.9767\n",
            "Epoch 26/500\n",
            "500/500 [==============================] - 36s 72ms/step - loss: 0.1569 - accuracy: 0.9519 - val_loss: 0.1201 - val_accuracy: 0.9614\n",
            "Epoch 27/500\n",
            "500/500 [==============================] - 36s 72ms/step - loss: 0.1508 - accuracy: 0.9529 - val_loss: 0.1406 - val_accuracy: 0.9647\n",
            "Epoch 28/500\n",
            "500/500 [==============================] - 36s 73ms/step - loss: 0.1512 - accuracy: 0.9548 - val_loss: 0.1159 - val_accuracy: 0.9701\n",
            "Epoch 29/500\n",
            "500/500 [==============================] - 36s 72ms/step - loss: 0.1512 - accuracy: 0.9538 - val_loss: 0.0858 - val_accuracy: 0.9754\n",
            "Epoch 30/500\n",
            "492/500 [============================>.] - ETA: 0s - loss: 0.1441 - accuracy: 0.9562"
          ],
          "name": "stdout"
        },
        {
          "output_type": "error",
          "ename": "KeyboardInterrupt",
          "evalue": "ignored",
          "traceback": [
            "\u001b[0;31m---------------------------------------------------------------------------\u001b[0m",
            "\u001b[0;31mKeyboardInterrupt\u001b[0m                         Traceback (most recent call last)",
            "\u001b[0;32m<ipython-input-53-e59ec61bcdd6>\u001b[0m in \u001b[0;36m<module>\u001b[0;34m()\u001b[0m\n\u001b[1;32m      1\u001b[0m \u001b[0mfile_name\u001b[0m \u001b[0;34m=\u001b[0m \u001b[0mstr\u001b[0m\u001b[0;34m(\u001b[0m\u001b[0mepochs\u001b[0m\u001b[0;34m)\u001b[0m\u001b[0;34m+\u001b[0m\u001b[0;34m'_'\u001b[0m\u001b[0;34m+\u001b[0m\u001b[0mstr\u001b[0m\u001b[0;34m(\u001b[0m\u001b[0mbatch_size\u001b[0m\u001b[0;34m)\u001b[0m\u001b[0;34m\u001b[0m\u001b[0;34m\u001b[0m\u001b[0m\n\u001b[0;32m----> 2\u001b[0;31m \u001b[0mfig\u001b[0m \u001b[0;34m=\u001b[0m \u001b[0mmodel\u001b[0m\u001b[0;34m.\u001b[0m\u001b[0mfit_generator\u001b[0m\u001b[0;34m(\u001b[0m\u001b[0mdatagen\u001b[0m\u001b[0;34m.\u001b[0m\u001b[0mflow\u001b[0m\u001b[0;34m(\u001b[0m\u001b[0mx_train\u001b[0m\u001b[0;34m,\u001b[0m\u001b[0my_train\u001b[0m\u001b[0;34m,\u001b[0m\u001b[0mbatch_size\u001b[0m\u001b[0;34m=\u001b[0m\u001b[0mbatch_size\u001b[0m\u001b[0;34m)\u001b[0m\u001b[0;34m,\u001b[0m\u001b[0msteps_per_epoch\u001b[0m\u001b[0;34m=\u001b[0m\u001b[0mepochs\u001b[0m\u001b[0;34m,\u001b[0m\u001b[0mepochs\u001b[0m\u001b[0;34m=\u001b[0m\u001b[0mepochs\u001b[0m\u001b[0;34m,\u001b[0m\u001b[0mvalidation_data\u001b[0m\u001b[0;34m=\u001b[0m\u001b[0;34m(\u001b[0m\u001b[0mx_test\u001b[0m\u001b[0;34m,\u001b[0m\u001b[0my_test\u001b[0m\u001b[0;34m)\u001b[0m\u001b[0;34m,\u001b[0m\u001b[0mverbose\u001b[0m \u001b[0;34m=\u001b[0m \u001b[0;36m1\u001b[0m\u001b[0;34m,\u001b[0m\u001b[0mcallbacks\u001b[0m\u001b[0;34m=\u001b[0m\u001b[0mearly_stopping\u001b[0m\u001b[0;34m)\u001b[0m\u001b[0;34m\u001b[0m\u001b[0;34m\u001b[0m\u001b[0m\n\u001b[0m\u001b[1;32m      3\u001b[0m \u001b[0mmodel\u001b[0m\u001b[0;34m.\u001b[0m\u001b[0msave\u001b[0m\u001b[0;34m(\u001b[0m\u001b[0;34m'/content/drive/MyDrive/CharacterML_Hw/train/model'\u001b[0m\u001b[0;34m+\u001b[0m\u001b[0mfile_name\u001b[0m\u001b[0;34m+\u001b[0m\u001b[0;34m'.h5'\u001b[0m\u001b[0;34m)\u001b[0m\u001b[0;34m\u001b[0m\u001b[0;34m\u001b[0m\u001b[0m\n\u001b[1;32m      4\u001b[0m \u001b[0mscore\u001b[0m \u001b[0;34m=\u001b[0m \u001b[0mmodel\u001b[0m\u001b[0;34m.\u001b[0m\u001b[0mevaluate\u001b[0m\u001b[0;34m(\u001b[0m\u001b[0mx_test\u001b[0m\u001b[0;34m,\u001b[0m\u001b[0my_test\u001b[0m\u001b[0;34m,\u001b[0m\u001b[0mverbose\u001b[0m\u001b[0;34m=\u001b[0m\u001b[0;36m1\u001b[0m\u001b[0;34m)\u001b[0m\u001b[0;34m\u001b[0m\u001b[0;34m\u001b[0m\u001b[0m\n\u001b[1;32m      5\u001b[0m \u001b[0mprint\u001b[0m\u001b[0;34m(\u001b[0m\u001b[0mscore\u001b[0m\u001b[0;34m)\u001b[0m\u001b[0;34m\u001b[0m\u001b[0;34m\u001b[0m\u001b[0m\n",
            "\u001b[0;32m/usr/local/lib/python3.6/dist-packages/tensorflow/python/util/deprecation.py\u001b[0m in \u001b[0;36mnew_func\u001b[0;34m(*args, **kwargs)\u001b[0m\n\u001b[1;32m    322\u001b[0m               \u001b[0;34m'in a future version'\u001b[0m \u001b[0;32mif\u001b[0m \u001b[0mdate\u001b[0m \u001b[0;32mis\u001b[0m \u001b[0;32mNone\u001b[0m \u001b[0;32melse\u001b[0m \u001b[0;34m(\u001b[0m\u001b[0;34m'after %s'\u001b[0m \u001b[0;34m%\u001b[0m \u001b[0mdate\u001b[0m\u001b[0;34m)\u001b[0m\u001b[0;34m,\u001b[0m\u001b[0;34m\u001b[0m\u001b[0;34m\u001b[0m\u001b[0m\n\u001b[1;32m    323\u001b[0m               instructions)\n\u001b[0;32m--> 324\u001b[0;31m       \u001b[0;32mreturn\u001b[0m \u001b[0mfunc\u001b[0m\u001b[0;34m(\u001b[0m\u001b[0;34m*\u001b[0m\u001b[0margs\u001b[0m\u001b[0;34m,\u001b[0m \u001b[0;34m**\u001b[0m\u001b[0mkwargs\u001b[0m\u001b[0;34m)\u001b[0m\u001b[0;34m\u001b[0m\u001b[0;34m\u001b[0m\u001b[0m\n\u001b[0m\u001b[1;32m    325\u001b[0m     return tf_decorator.make_decorator(\n\u001b[1;32m    326\u001b[0m         \u001b[0mfunc\u001b[0m\u001b[0;34m,\u001b[0m \u001b[0mnew_func\u001b[0m\u001b[0;34m,\u001b[0m \u001b[0;34m'deprecated'\u001b[0m\u001b[0;34m,\u001b[0m\u001b[0;34m\u001b[0m\u001b[0;34m\u001b[0m\u001b[0m\n",
            "\u001b[0;32m/usr/local/lib/python3.6/dist-packages/tensorflow/python/keras/engine/training.py\u001b[0m in \u001b[0;36mfit_generator\u001b[0;34m(self, generator, steps_per_epoch, epochs, verbose, callbacks, validation_data, validation_steps, validation_freq, class_weight, max_queue_size, workers, use_multiprocessing, shuffle, initial_epoch)\u001b[0m\n\u001b[1;32m   1827\u001b[0m         \u001b[0muse_multiprocessing\u001b[0m\u001b[0;34m=\u001b[0m\u001b[0muse_multiprocessing\u001b[0m\u001b[0;34m,\u001b[0m\u001b[0;34m\u001b[0m\u001b[0;34m\u001b[0m\u001b[0m\n\u001b[1;32m   1828\u001b[0m         \u001b[0mshuffle\u001b[0m\u001b[0;34m=\u001b[0m\u001b[0mshuffle\u001b[0m\u001b[0;34m,\u001b[0m\u001b[0;34m\u001b[0m\u001b[0;34m\u001b[0m\u001b[0m\n\u001b[0;32m-> 1829\u001b[0;31m         initial_epoch=initial_epoch)\n\u001b[0m\u001b[1;32m   1830\u001b[0m \u001b[0;34m\u001b[0m\u001b[0m\n\u001b[1;32m   1831\u001b[0m   @deprecation.deprecated(\n",
            "\u001b[0;32m/usr/local/lib/python3.6/dist-packages/tensorflow/python/keras/engine/training.py\u001b[0m in \u001b[0;36m_method_wrapper\u001b[0;34m(self, *args, **kwargs)\u001b[0m\n\u001b[1;32m    106\u001b[0m   \u001b[0;32mdef\u001b[0m \u001b[0m_method_wrapper\u001b[0m\u001b[0;34m(\u001b[0m\u001b[0mself\u001b[0m\u001b[0;34m,\u001b[0m \u001b[0;34m*\u001b[0m\u001b[0margs\u001b[0m\u001b[0;34m,\u001b[0m \u001b[0;34m**\u001b[0m\u001b[0mkwargs\u001b[0m\u001b[0;34m)\u001b[0m\u001b[0;34m:\u001b[0m\u001b[0;34m\u001b[0m\u001b[0;34m\u001b[0m\u001b[0m\n\u001b[1;32m    107\u001b[0m     \u001b[0;32mif\u001b[0m \u001b[0;32mnot\u001b[0m \u001b[0mself\u001b[0m\u001b[0;34m.\u001b[0m\u001b[0m_in_multi_worker_mode\u001b[0m\u001b[0;34m(\u001b[0m\u001b[0;34m)\u001b[0m\u001b[0;34m:\u001b[0m  \u001b[0;31m# pylint: disable=protected-access\u001b[0m\u001b[0;34m\u001b[0m\u001b[0;34m\u001b[0m\u001b[0m\n\u001b[0;32m--> 108\u001b[0;31m       \u001b[0;32mreturn\u001b[0m \u001b[0mmethod\u001b[0m\u001b[0;34m(\u001b[0m\u001b[0mself\u001b[0m\u001b[0;34m,\u001b[0m \u001b[0;34m*\u001b[0m\u001b[0margs\u001b[0m\u001b[0;34m,\u001b[0m \u001b[0;34m**\u001b[0m\u001b[0mkwargs\u001b[0m\u001b[0;34m)\u001b[0m\u001b[0;34m\u001b[0m\u001b[0;34m\u001b[0m\u001b[0m\n\u001b[0m\u001b[1;32m    109\u001b[0m \u001b[0;34m\u001b[0m\u001b[0m\n\u001b[1;32m    110\u001b[0m     \u001b[0;31m# Running inside `run_distribute_coordinator` already.\u001b[0m\u001b[0;34m\u001b[0m\u001b[0;34m\u001b[0m\u001b[0;34m\u001b[0m\u001b[0m\n",
            "\u001b[0;32m/usr/local/lib/python3.6/dist-packages/tensorflow/python/keras/engine/training.py\u001b[0m in \u001b[0;36mfit\u001b[0;34m(self, x, y, batch_size, epochs, verbose, callbacks, validation_split, validation_data, shuffle, class_weight, sample_weight, initial_epoch, steps_per_epoch, validation_steps, validation_batch_size, validation_freq, max_queue_size, workers, use_multiprocessing)\u001b[0m\n\u001b[1;32m   1096\u001b[0m                 batch_size=batch_size):\n\u001b[1;32m   1097\u001b[0m               \u001b[0mcallbacks\u001b[0m\u001b[0;34m.\u001b[0m\u001b[0mon_train_batch_begin\u001b[0m\u001b[0;34m(\u001b[0m\u001b[0mstep\u001b[0m\u001b[0;34m)\u001b[0m\u001b[0;34m\u001b[0m\u001b[0;34m\u001b[0m\u001b[0m\n\u001b[0;32m-> 1098\u001b[0;31m               \u001b[0mtmp_logs\u001b[0m \u001b[0;34m=\u001b[0m \u001b[0mtrain_function\u001b[0m\u001b[0;34m(\u001b[0m\u001b[0miterator\u001b[0m\u001b[0;34m)\u001b[0m\u001b[0;34m\u001b[0m\u001b[0;34m\u001b[0m\u001b[0m\n\u001b[0m\u001b[1;32m   1099\u001b[0m               \u001b[0;32mif\u001b[0m \u001b[0mdata_handler\u001b[0m\u001b[0;34m.\u001b[0m\u001b[0mshould_sync\u001b[0m\u001b[0;34m:\u001b[0m\u001b[0;34m\u001b[0m\u001b[0;34m\u001b[0m\u001b[0m\n\u001b[1;32m   1100\u001b[0m                 \u001b[0mcontext\u001b[0m\u001b[0;34m.\u001b[0m\u001b[0masync_wait\u001b[0m\u001b[0;34m(\u001b[0m\u001b[0;34m)\u001b[0m\u001b[0;34m\u001b[0m\u001b[0;34m\u001b[0m\u001b[0m\n",
            "\u001b[0;32m/usr/local/lib/python3.6/dist-packages/tensorflow/python/eager/def_function.py\u001b[0m in \u001b[0;36m__call__\u001b[0;34m(self, *args, **kwds)\u001b[0m\n\u001b[1;32m    778\u001b[0m       \u001b[0;32melse\u001b[0m\u001b[0;34m:\u001b[0m\u001b[0;34m\u001b[0m\u001b[0;34m\u001b[0m\u001b[0m\n\u001b[1;32m    779\u001b[0m         \u001b[0mcompiler\u001b[0m \u001b[0;34m=\u001b[0m \u001b[0;34m\"nonXla\"\u001b[0m\u001b[0;34m\u001b[0m\u001b[0;34m\u001b[0m\u001b[0m\n\u001b[0;32m--> 780\u001b[0;31m         \u001b[0mresult\u001b[0m \u001b[0;34m=\u001b[0m \u001b[0mself\u001b[0m\u001b[0;34m.\u001b[0m\u001b[0m_call\u001b[0m\u001b[0;34m(\u001b[0m\u001b[0;34m*\u001b[0m\u001b[0margs\u001b[0m\u001b[0;34m,\u001b[0m \u001b[0;34m**\u001b[0m\u001b[0mkwds\u001b[0m\u001b[0;34m)\u001b[0m\u001b[0;34m\u001b[0m\u001b[0;34m\u001b[0m\u001b[0m\n\u001b[0m\u001b[1;32m    781\u001b[0m \u001b[0;34m\u001b[0m\u001b[0m\n\u001b[1;32m    782\u001b[0m       \u001b[0mnew_tracing_count\u001b[0m \u001b[0;34m=\u001b[0m \u001b[0mself\u001b[0m\u001b[0;34m.\u001b[0m\u001b[0m_get_tracing_count\u001b[0m\u001b[0;34m(\u001b[0m\u001b[0;34m)\u001b[0m\u001b[0;34m\u001b[0m\u001b[0;34m\u001b[0m\u001b[0m\n",
            "\u001b[0;32m/usr/local/lib/python3.6/dist-packages/tensorflow/python/eager/def_function.py\u001b[0m in \u001b[0;36m_call\u001b[0;34m(self, *args, **kwds)\u001b[0m\n\u001b[1;32m    805\u001b[0m       \u001b[0;31m# In this case we have created variables on the first call, so we run the\u001b[0m\u001b[0;34m\u001b[0m\u001b[0;34m\u001b[0m\u001b[0;34m\u001b[0m\u001b[0m\n\u001b[1;32m    806\u001b[0m       \u001b[0;31m# defunned version which is guaranteed to never create variables.\u001b[0m\u001b[0;34m\u001b[0m\u001b[0;34m\u001b[0m\u001b[0;34m\u001b[0m\u001b[0m\n\u001b[0;32m--> 807\u001b[0;31m       \u001b[0;32mreturn\u001b[0m \u001b[0mself\u001b[0m\u001b[0;34m.\u001b[0m\u001b[0m_stateless_fn\u001b[0m\u001b[0;34m(\u001b[0m\u001b[0;34m*\u001b[0m\u001b[0margs\u001b[0m\u001b[0;34m,\u001b[0m \u001b[0;34m**\u001b[0m\u001b[0mkwds\u001b[0m\u001b[0;34m)\u001b[0m  \u001b[0;31m# pylint: disable=not-callable\u001b[0m\u001b[0;34m\u001b[0m\u001b[0;34m\u001b[0m\u001b[0m\n\u001b[0m\u001b[1;32m    808\u001b[0m     \u001b[0;32melif\u001b[0m \u001b[0mself\u001b[0m\u001b[0;34m.\u001b[0m\u001b[0m_stateful_fn\u001b[0m \u001b[0;32mis\u001b[0m \u001b[0;32mnot\u001b[0m \u001b[0;32mNone\u001b[0m\u001b[0;34m:\u001b[0m\u001b[0;34m\u001b[0m\u001b[0;34m\u001b[0m\u001b[0m\n\u001b[1;32m    809\u001b[0m       \u001b[0;31m# Release the lock early so that multiple threads can perform the call\u001b[0m\u001b[0;34m\u001b[0m\u001b[0;34m\u001b[0m\u001b[0;34m\u001b[0m\u001b[0m\n",
            "\u001b[0;32m/usr/local/lib/python3.6/dist-packages/tensorflow/python/eager/function.py\u001b[0m in \u001b[0;36m__call__\u001b[0;34m(self, *args, **kwargs)\u001b[0m\n\u001b[1;32m   2827\u001b[0m     \u001b[0;32mwith\u001b[0m \u001b[0mself\u001b[0m\u001b[0;34m.\u001b[0m\u001b[0m_lock\u001b[0m\u001b[0;34m:\u001b[0m\u001b[0;34m\u001b[0m\u001b[0;34m\u001b[0m\u001b[0m\n\u001b[1;32m   2828\u001b[0m       \u001b[0mgraph_function\u001b[0m\u001b[0;34m,\u001b[0m \u001b[0margs\u001b[0m\u001b[0;34m,\u001b[0m \u001b[0mkwargs\u001b[0m \u001b[0;34m=\u001b[0m \u001b[0mself\u001b[0m\u001b[0;34m.\u001b[0m\u001b[0m_maybe_define_function\u001b[0m\u001b[0;34m(\u001b[0m\u001b[0margs\u001b[0m\u001b[0;34m,\u001b[0m \u001b[0mkwargs\u001b[0m\u001b[0;34m)\u001b[0m\u001b[0;34m\u001b[0m\u001b[0;34m\u001b[0m\u001b[0m\n\u001b[0;32m-> 2829\u001b[0;31m     \u001b[0;32mreturn\u001b[0m \u001b[0mgraph_function\u001b[0m\u001b[0;34m.\u001b[0m\u001b[0m_filtered_call\u001b[0m\u001b[0;34m(\u001b[0m\u001b[0margs\u001b[0m\u001b[0;34m,\u001b[0m \u001b[0mkwargs\u001b[0m\u001b[0;34m)\u001b[0m  \u001b[0;31m# pylint: disable=protected-access\u001b[0m\u001b[0;34m\u001b[0m\u001b[0;34m\u001b[0m\u001b[0m\n\u001b[0m\u001b[1;32m   2830\u001b[0m \u001b[0;34m\u001b[0m\u001b[0m\n\u001b[1;32m   2831\u001b[0m   \u001b[0;34m@\u001b[0m\u001b[0mproperty\u001b[0m\u001b[0;34m\u001b[0m\u001b[0;34m\u001b[0m\u001b[0m\n",
            "\u001b[0;32m/usr/local/lib/python3.6/dist-packages/tensorflow/python/eager/function.py\u001b[0m in \u001b[0;36m_filtered_call\u001b[0;34m(self, args, kwargs, cancellation_manager)\u001b[0m\n\u001b[1;32m   1846\u001b[0m                            resource_variable_ops.BaseResourceVariable))],\n\u001b[1;32m   1847\u001b[0m         \u001b[0mcaptured_inputs\u001b[0m\u001b[0;34m=\u001b[0m\u001b[0mself\u001b[0m\u001b[0;34m.\u001b[0m\u001b[0mcaptured_inputs\u001b[0m\u001b[0;34m,\u001b[0m\u001b[0;34m\u001b[0m\u001b[0;34m\u001b[0m\u001b[0m\n\u001b[0;32m-> 1848\u001b[0;31m         cancellation_manager=cancellation_manager)\n\u001b[0m\u001b[1;32m   1849\u001b[0m \u001b[0;34m\u001b[0m\u001b[0m\n\u001b[1;32m   1850\u001b[0m   \u001b[0;32mdef\u001b[0m \u001b[0m_call_flat\u001b[0m\u001b[0;34m(\u001b[0m\u001b[0mself\u001b[0m\u001b[0;34m,\u001b[0m \u001b[0margs\u001b[0m\u001b[0;34m,\u001b[0m \u001b[0mcaptured_inputs\u001b[0m\u001b[0;34m,\u001b[0m \u001b[0mcancellation_manager\u001b[0m\u001b[0;34m=\u001b[0m\u001b[0;32mNone\u001b[0m\u001b[0;34m)\u001b[0m\u001b[0;34m:\u001b[0m\u001b[0;34m\u001b[0m\u001b[0;34m\u001b[0m\u001b[0m\n",
            "\u001b[0;32m/usr/local/lib/python3.6/dist-packages/tensorflow/python/eager/function.py\u001b[0m in \u001b[0;36m_call_flat\u001b[0;34m(self, args, captured_inputs, cancellation_manager)\u001b[0m\n\u001b[1;32m   1922\u001b[0m       \u001b[0;31m# No tape is watching; skip to running the function.\u001b[0m\u001b[0;34m\u001b[0m\u001b[0;34m\u001b[0m\u001b[0;34m\u001b[0m\u001b[0m\n\u001b[1;32m   1923\u001b[0m       return self._build_call_outputs(self._inference_function.call(\n\u001b[0;32m-> 1924\u001b[0;31m           ctx, args, cancellation_manager=cancellation_manager))\n\u001b[0m\u001b[1;32m   1925\u001b[0m     forward_backward = self._select_forward_and_backward_functions(\n\u001b[1;32m   1926\u001b[0m         \u001b[0margs\u001b[0m\u001b[0;34m,\u001b[0m\u001b[0;34m\u001b[0m\u001b[0;34m\u001b[0m\u001b[0m\n",
            "\u001b[0;32m/usr/local/lib/python3.6/dist-packages/tensorflow/python/eager/function.py\u001b[0m in \u001b[0;36mcall\u001b[0;34m(self, ctx, args, cancellation_manager)\u001b[0m\n\u001b[1;32m    548\u001b[0m               \u001b[0minputs\u001b[0m\u001b[0;34m=\u001b[0m\u001b[0margs\u001b[0m\u001b[0;34m,\u001b[0m\u001b[0;34m\u001b[0m\u001b[0;34m\u001b[0m\u001b[0m\n\u001b[1;32m    549\u001b[0m               \u001b[0mattrs\u001b[0m\u001b[0;34m=\u001b[0m\u001b[0mattrs\u001b[0m\u001b[0;34m,\u001b[0m\u001b[0;34m\u001b[0m\u001b[0;34m\u001b[0m\u001b[0m\n\u001b[0;32m--> 550\u001b[0;31m               ctx=ctx)\n\u001b[0m\u001b[1;32m    551\u001b[0m         \u001b[0;32melse\u001b[0m\u001b[0;34m:\u001b[0m\u001b[0;34m\u001b[0m\u001b[0;34m\u001b[0m\u001b[0m\n\u001b[1;32m    552\u001b[0m           outputs = execute.execute_with_cancellation(\n",
            "\u001b[0;32m/usr/local/lib/python3.6/dist-packages/tensorflow/python/eager/execute.py\u001b[0m in \u001b[0;36mquick_execute\u001b[0;34m(op_name, num_outputs, inputs, attrs, ctx, name)\u001b[0m\n\u001b[1;32m     58\u001b[0m     \u001b[0mctx\u001b[0m\u001b[0;34m.\u001b[0m\u001b[0mensure_initialized\u001b[0m\u001b[0;34m(\u001b[0m\u001b[0;34m)\u001b[0m\u001b[0;34m\u001b[0m\u001b[0;34m\u001b[0m\u001b[0m\n\u001b[1;32m     59\u001b[0m     tensors = pywrap_tfe.TFE_Py_Execute(ctx._handle, device_name, op_name,\n\u001b[0;32m---> 60\u001b[0;31m                                         inputs, attrs, num_outputs)\n\u001b[0m\u001b[1;32m     61\u001b[0m   \u001b[0;32mexcept\u001b[0m \u001b[0mcore\u001b[0m\u001b[0;34m.\u001b[0m\u001b[0m_NotOkStatusException\u001b[0m \u001b[0;32mas\u001b[0m \u001b[0me\u001b[0m\u001b[0;34m:\u001b[0m\u001b[0;34m\u001b[0m\u001b[0;34m\u001b[0m\u001b[0m\n\u001b[1;32m     62\u001b[0m     \u001b[0;32mif\u001b[0m \u001b[0mname\u001b[0m \u001b[0;32mis\u001b[0m \u001b[0;32mnot\u001b[0m \u001b[0;32mNone\u001b[0m\u001b[0;34m:\u001b[0m\u001b[0;34m\u001b[0m\u001b[0;34m\u001b[0m\u001b[0m\n",
            "\u001b[0;31mKeyboardInterrupt\u001b[0m: "
          ]
        }
      ]
    },
    {
      "cell_type": "code",
      "metadata": {
        "id": "Bj8BZzAakJqp"
      },
      "source": [
        "def read_images(path):\n",
        "  images=[]\n",
        "  for i in range(990):\n",
        "    image=cv2.resize(cv2.imread(path+str(i+1)+'.jpg'),(64,64))\n",
        "    images.append(image)\n",
        "  images = np.array(images,dtype = np.float32)/255\n",
        "  return images\n",
        "  "
      ],
      "execution_count": null,
      "outputs": []
    },
    {
      "cell_type": "code",
      "metadata": {
        "colab": {
          "base_uri": "https://localhost:8080/"
        },
        "id": "sPyMR3B-sv87",
        "outputId": "f5bea37b-3762-4209-e722-d7c079bbfc11"
      },
      "source": [
        "def transform(listdir,label,lenSIZE):\n",
        "  label_str=[]\n",
        "  for i in range (lenSIZE):\n",
        "    temp = listdir[label[i]]\n",
        "    label_str.append(temp)\n",
        "  return label_str\n",
        "\n",
        "images = read_images('/content/drive/MyDrive/CharacterML_Hw/test/test/')\n",
        "model = load_model('/content/drive/MyDrive/CharacterML_Hw/train/model10_128.h5')\n",
        "\n",
        "predict = model.predict_classes(images, verbose=1)\n",
        "print(predict)\n",
        "label_str=transform(np.loadtxt('name.txt',dtype='str'),predict,images.shape[0])\n"
      ],
      "execution_count": null,
      "outputs": [
        {
          "output_type": "stream",
          "text": [
            "31/31 [==============================] - 0s 3ms/step\n",
            "[16  3 17 17  7 11 18 19 12  4 18 13 15 11  8 18 13  7  4  3  7  5  7  8\n",
            "  5  0 13 11  4 18  4  8  1  8  0  8 12  2  2 18  1  2 10 17  5  6 12  1\n",
            " 15 14 10  8  4  6 11 13  5  7 16  4 19  9 19  4  3 17  4 10  6 19  7  2\n",
            "  6  9 15 19 11 18 10  4  5 14  6 13  8 11  7  7 14  5 16 10 14 15 15 15\n",
            "  3  3  7  1  7 17  5 19  9 14 17  7 17 12 13 15  2 15 18  4  2  6  9 17\n",
            "  1  1 10 10 11 14 12 10 11  1 14 19 18  6  8  5  2  3  5 12  8 15  2  1\n",
            "  2  1 11  4 15  3 18  0 10  1 13  1  4 19  8 13 18  1  1  5  9 15 12 11\n",
            " 14  3 14  1  5  1 14 10 14 15  1 10  4  2 15  1  9  3 15  1 11 10 17 18\n",
            " 12  7 18 16  1 17 19  8 14 15  0  6 10 10 10 16  8  4 15 15 17  1  2  1\n",
            " 13  0  9 12  6 10 12 17 18  8  6  8 19  5  5  1 18 12  0 17  6  4  9  9\n",
            " 13  1  6 11  1 18 12  6  2  3 19  8  6  0  2  1 15 14  6  7 11  3  5  6\n",
            "  9  8  0 10 18  4  8  0  4  1  1  9  5 19 14  5 14  1  6 13  1 16  7  0\n",
            " 16  2 12 16 15  3  7  2 12 13  8 19  6 17 16 13  6  7  6 11  7 16  9  0\n",
            " 12 12 17 17  1 15 19  9 16  2  8  6 16  6  2 11  5  3 13  5  0 10  3  6\n",
            "  3  7 13  3  2  2  8  5 16  3 16  9  1 11 17 10 14 15  4  5  0 11 11 13\n",
            " 14  7 18  9 11 12  7 16  0 11  6 10 11  1  8 18 14  0  4 15  0 17 10 12\n",
            "  6 19 11 19 17  0  2 17  5  5  4  8 12 12  1 12  2  5 16  0  0  2 13 12\n",
            " 12  8  9 17 10 19 18  9 14 12  7  1 18  7  2 17 16 16 18 14  4 14 16 19\n",
            " 16 18  9 16 14  4 17 13  8 15 14 13 11 12 16  0 19 13 18 15 16 15 11 14\n",
            "  9  4  2 17  9  9  4  6 13  9 13  1 12 18 10 16  8 15  1  0  9 19 14 12\n",
            " 12  9 18  4 17  7 10  0  2  1 19 17 11 16 11 13 14 16  9  3 12  0 18 18\n",
            " 17  8 13 12 11  9  7 11  5 19  8 10 12 16 13 14  5 13 15 14 11  9 15 13\n",
            " 16 15  3  4  7  2 11 10  7 15 17 10  4  1  3 11 12  5  9 10  3  9 10  4\n",
            "  7  2  0  3  8  8  0  7 11  9  8 13 17  7  9 17 10  2 11 16 17  3 19 19\n",
            " 14 13  5  9  4 13 14  7 18  9  1 18 13 19 19 16  5  4  9  4  8  8  4  6\n",
            "  4  5 18  7 16 17  0 16  0 18 15  4 14  0  7  0  9  7 19  7 17  5 15 11\n",
            " 19 14 11 15 17  9  5 19  2 18  8  8  1 16 19 16  3 17 14 17  6  8  9  0\n",
            "  1  3  2  7  6  2 13  5 16  6 11  6 10  6 19 15  5 11  3  3  0  8 10 18\n",
            "  5 18  5 14 10  0  2  8 11  7  3  1  1  7  7  0  9  5  2 13  3  7  8  3\n",
            " 16 15  3  9 12 19  3  4  6 17 14 17  7 18 19 17 19 10  8 12  6  8 13 15\n",
            " 10  6 17 17 18  3 14 11 12 18 15 13 12  8 10  3  2 12  0 19 19  6 10  7\n",
            " 16 11 17 18  6 13 11 19  2  9  1  7  2 14  6 16  2 19 13  6 14 15  9  1\n",
            " 19 15  3  1 12 12  7  2 16 16  3 19  2 13 16  3 14 15 19 15  8 13  9 18\n",
            " 15 12 12  5  3  6 13 12 15 11 13 14  4  0 16  6  5 18 16  8 17 16  8  8\n",
            " 19 19 16 10  6  4  2  2 17  0  6 18  4  3 15 11  9  9  0  4  0  3 17  0\n",
            "  5 11  8 10 12 19 11 15  6  6 18  9 18 10 12 16 15  2  5 10 10 16  5 11\n",
            "  1 10  8 13  2 13  7  3 12 12  9  9 12  3 13  4  6 19  3  4 17  5  0  0\n",
            "  7  7  3  7  3  2  4 15 13  5 10 19 18  9  3  0  4 12  2 17  0  0 10  3\n",
            " 19 11 10  1 11 12  2 15  6 15 13 13  8 14 16 18 14 17  7 11 14  7 14  0\n",
            " 14  6 10 14  0  4 15  0  3  3  8  4  5  5 17  2  5  1 19 13  0  4  7 10\n",
            " 18  8 18  4 18  3 19 19  1  1  6  2 18  4 13  5 16 12 14  5  4 10  4  5\n",
            " 16 10 13 11  9  5]\n"
          ],
          "name": "stdout"
        }
      ]
    },
    {
      "cell_type": "code",
      "metadata": {
        "id": "BArWsE2CtxGb"
      },
      "source": [
        "df = pd.DataFrame({'character':label_str})\n",
        "df.index = np.arange(1,len(df)+1)\n",
        "df.index.names = ['id']\n",
        "df.to_csv('/content/drive/MyDrive/CharacterML_Hw/'+'test'+'.csv')"
      ],
      "execution_count": null,
      "outputs": []
    },
    {
      "cell_type": "code",
      "metadata": {
        "id": "h-rGVmJpuy3K"
      },
      "source": [
        ""
      ],
      "execution_count": null,
      "outputs": []
    }
  ]
}